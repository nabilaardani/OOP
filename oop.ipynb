{
 "cells": [
  {
   "cell_type": "code",
   "execution_count": 1,
   "id": "2ed41f96",
   "metadata": {},
   "outputs": [
    {
     "name": "stdout",
     "output_type": "stream",
     "text": [
      "Requirement already satisfied: pip in c:\\users\\lenovo\\anaconda\\lib\\site-packages (23.0.1)\n"
     ]
    }
   ],
   "source": [
    "!python -m pip install --upgrade pip"
   ]
  },
  {
   "cell_type": "code",
   "execution_count": 2,
   "id": "c86b0db3",
   "metadata": {},
   "outputs": [
    {
     "name": "stdout",
     "output_type": "stream",
     "text": [
      "Requirement already satisfied: mysql-connector-python in c:\\users\\lenovo\\anaconda\\lib\\site-packages (8.0.32)Note: you may need to restart the kernel to use updated packages.\n",
      "\n",
      "Requirement already satisfied: protobuf<=3.20.3,>=3.11.0 in c:\\users\\lenovo\\anaconda\\lib\\site-packages (from mysql-connector-python) (3.19.1)\n"
     ]
    }
   ],
   "source": [
    "pip install mysql-connector-python"
   ]
  },
  {
   "cell_type": "code",
   "execution_count": 7,
   "id": "7398ed77",
   "metadata": {},
   "outputs": [],
   "source": [
    "import mysql.connector"
   ]
  },
  {
   "cell_type": "code",
   "execution_count": 2,
   "id": "b68073c1",
   "metadata": {},
   "outputs": [],
   "source": [
    "class Database:\n",
    "    my_db = my_cursor = None\n",
    "    \n",
    "    def __init__(self):\n",
    "        global my_db, my_cursor\n",
    "        my_db = mysql.connector.connect(\n",
    "            host=\"localhost\",\n",
    "            user=\"root\",\n",
    "            password=\"\",\n",
    "            database=\"db_stasiun_kai\"\n",
    "        )\n",
    "        my_cursor = my_db.cursor()\n",
    "        \n",
    "    def __del__(self):\n",
    "        my_db.commit()"
   ]
  },
  {
   "cell_type": "code",
   "execution_count": 3,
   "id": "2fdaf4c4",
   "metadata": {},
   "outputs": [],
   "source": [
    "class ticket_kereta_api(Database):\n",
    "    \n",
    "    def tampil_ticket(self, mode='DESC'):\n",
    "        sql = \"SELECT * FROM ticket_kereta_api ORDER BY id_penumpang {}\".format(mode)\n",
    "        \n",
    "        try:\n",
    "            my_cursor.execute(sql)\n",
    "            result = my_cursor.fetchall()\n",
    "        except Exception as e:\n",
    "            return e\n",
    "        \n",
    "        return result\n",
    "    \n",
    "    def insert_ticket(self, data):\n",
    "        \n",
    "        sql = \"INSERT INTO ticket_kereta_api (nama_kereta, tujuan, letak_seat, letak_gerbong) VALUES (%s, %s, %s, %s)\"\n",
    "        \n",
    "        try:\n",
    "            my_cursor.execute(sql, data)\n",
    "            my_db.commit()\n",
    "            print(my_cursor.rowcount, \"record inserted.\")\n",
    "        except Exception as e:\n",
    "            return e\n",
    "        \n",
    "        return my_cursor.lastrowid\n",
    "    \n",
    "    def insert_ticket_many(self, data):\n",
    "        sql = \"INSERT INTO ticket_kereta_api (nama_kereta, tujuan, letak_seat, letak_gerbong) VALUES (%s, %s, %s, %s)\"\n",
    "        \n",
    "        try:\n",
    "            my_cursor.executemany(sql, data)\n",
    "            my_db.commit()\n",
    "            print(my_cursor.rowcount, \"record inserted.\")\n",
    "            \n",
    "        except Exception as e:\n",
    "            return e"
   ]
  },
  {
   "cell_type": "code",
   "execution_count": 4,
   "id": "79c4e634",
   "metadata": {},
   "outputs": [],
   "source": [
    "    def delete_ticket(self, id):\n",
    "        sql = \"DELETE FROM ticket_kereta_api WHERE id_penumpang = {}\".format(id)\n",
    "\n",
    "        try:\n",
    "            my_cursor.execute(sql)\n",
    "            my_db.commit()\n",
    "            print(my_cursor.rowcount, \"record deleted.\")\n",
    "        except Exception as e:\n",
    "            return e\n",
    "    \n",
    "    def update_ticket(self, id, data):\n",
    "        \n",
    "        sql = \"UPDATE ticket_kereta_api SET nama_kereta = %s, tujuan = %s, letak_seat = %s, letak_gerbong = %s WHERE id_penumpang = {}\".format(id)\n",
    "        val = (data[0], data[1], data[2])\n",
    "        \n",
    "        try:\n",
    "            my_cursor.execute(sql, val)\n",
    "            my_db.commit()\n",
    "            print(my_cursor.rowcount, \"record update.\")\n",
    "            \n",
    "        except Exception as e:\n",
    "            return e\n",
    "        \n",
    "    def truncate(self):\n",
    "        \n",
    "        sql = \"TRUNCATE TABLE ticket_kereta_api\"\n",
    "        try:\n",
    "            my_cursor.execute(sql)\n",
    "            my_db.commit()\n",
    "        except Exception as e:\n",
    "            return e\n",
    "        return True"
   ]
  },
  {
   "cell_type": "code",
   "execution_count": 5,
   "id": "2251705a",
   "metadata": {},
   "outputs": [
    {
     "name": "stdout",
     "output_type": "stream",
     "text": [
      "2 record inserted.\n",
      "[('Sancaka', 'Kertosono', 24, 4, 60), ('Argo Wilis', 'Surabaya', 20, 2, 59)]\n"
     ]
    }
   ],
   "source": [
    "tct = ticket_kereta_api()\n",
    "\n",
    "data = [('Argo Wilis', 'Surabaya', 20, 2),('Sancaka', 'Kertosono', 24, 4)]\n",
    "\n",
    "tct.insert_ticket_many(data)\n",
    "\n",
    "print(tct.tampil_ticket())"
   ]
  },
  {
   "cell_type": "code",
   "execution_count": 7,
   "id": "8032bd19",
   "metadata": {},
   "outputs": [
    {
     "name": "stdout",
     "output_type": "stream",
     "text": [
      "1 record inserted.\n"
     ]
    },
    {
     "data": {
      "text/plain": [
       "62"
      ]
     },
     "execution_count": 7,
     "metadata": {},
     "output_type": "execute_result"
    }
   ],
   "source": [
    "data = ('Bima', 'Semarang', 34, 1)\n",
    "tct.insert_ticket(data)"
   ]
  },
  {
   "cell_type": "code",
   "execution_count": 10,
   "id": "828b984e",
   "metadata": {},
   "outputs": [
    {
     "data": {
      "text/plain": [
       "[('Bima', 'Semarang', 34, 1, 62),\n",
       " ('Sancaka', 'Kertosono', 24, 4, 61),\n",
       " ('Sancaka', 'Kertosono', 24, 4, 60),\n",
       " ('Argo Wilis', 'Surabaya', 20, 2, 59)]"
      ]
     },
     "execution_count": 10,
     "metadata": {},
     "output_type": "execute_result"
    }
   ],
   "source": [
    "tct.tampil_ticket()"
   ]
  },
  {
   "cell_type": "code",
   "execution_count": 49,
   "id": "40f76c26",
   "metadata": {},
   "outputs": [],
   "source": [
    "class Database:\n",
    "    my_db = my_cursor = None\n",
    "    \n",
    "    def __init__(self):\n",
    "        global my_db, my_cursor\n",
    "        my_db = mysql.connector.connect(\n",
    "            host=\"localhost\",\n",
    "            user=\"root\",\n",
    "            password=\"\",\n",
    "            database=\"db_stasiun_kereta_api\"\n",
    "        )\n",
    "        my_cursor = my_db.cursor()\n",
    "        \n",
    "    def __del__(self):\n",
    "        my_db.commit()\n",
    "        \n",
    "class pegawai_kereta_api(Database):\n",
    "    \n",
    "    def tampil_pegawai(self, mode='DESC'):\n",
    "        sql = \"SELECT * FROM pegawai_kereta_api ORDER BY id_pegawai {}\".format(mode)\n",
    "        \n",
    "        try:\n",
    "            my_cursor.execute(sql)\n",
    "            result = my_cursor.fetchall()\n",
    "        except Exception as e:\n",
    "            return e\n",
    "        \n",
    "        return result\n",
    "    \n",
    "    def insert_pegawai(self, data):\n",
    "        \n",
    "        sql = \"INSERT INTO pegawai_kereta_api (nama_pegawai, kedudukan, jabatan, unit) VALUES (%s, %s, %s, %s)\"\n",
    "        \n",
    "        try:\n",
    "            my_cursor.execute(sql, data)\n",
    "            my_db.commit()\n",
    "            print(my_cursor.rowcount, \"record inserted.\")\n",
    "        except Exception as e:\n",
    "            return e\n",
    "        \n",
    "        return my_cursor.lastrowid\n",
    "    \n",
    "    def insert_pegawai_many(self, data):\n",
    "        sql = \"INSERT INTO pegawai_kereta_api (nama_kereta, kedudukan, jabatan, unit) VALUES (%s, %s, %s, %s)\"\n",
    "        \n",
    "        try:\n",
    "            my_cursor.executemany(sql, data)\n",
    "            my_db.commit()\n",
    "            print(my_cursor.rowcount, \"record inserted.\")\n",
    "            \n",
    "        except Exception as e:\n",
    "            return e\n",
    "        \n",
    "    def delete_pegawai(self, id):\n",
    "        sql = \"DELETE FROM pegawai_kereta_api WHERE id_pegawai = {}\".format(id)\n",
    "\n",
    "        try:\n",
    "            my_cursor.execute(sql)\n",
    "            my_db.commit()\n",
    "            print(my_cursor.rowcount, \"record deleted.\")\n",
    "        except Exception as e:\n",
    "            return e\n",
    "    \n",
    "    def update_pegawai(self, id, data):\n",
    "        \n",
    "        sql = \"UPDATE pegawai_kereta_api SET nama_kereta = %s, kedudukan = %s, jabatan = %s, unit = %s WHERE id_pegawai = {}\".format(id)\n",
    "        val = (data[0], data[1], data[2])\n",
    "        \n",
    "        try:\n",
    "            my_cursor.execute(sql, val)\n",
    "            my_db.commit()\n",
    "            print(my_cursor.rowcount, \"record update.\")\n",
    "            \n",
    "        except Exception as e:\n",
    "            return e\n",
    "        \n",
    "    def truncate(self):\n",
    "        \n",
    "        sql = \"TRUNCATE TABLE pegawai_kereta_api\"\n",
    "        try:\n",
    "            my_cursor.execute(sql)\n",
    "            my_db.commit()\n",
    "        except Exception as e:\n",
    "            return e\n",
    "        return True"
   ]
  },
  {
   "cell_type": "code",
   "execution_count": 44,
   "id": "f6c11547",
   "metadata": {},
   "outputs": [
    {
     "name": "stdout",
     "output_type": "stream",
     "text": [
      "2 record inserted.\n",
      "[('Shareen Anastasya', 0, '0', 'supervisor', 'keuangan'), ('Javier Leon', 0, '0', 'supervisor', 'administrasi'), ('Shareen Anastasya', 0, 'stasiun jombang', 'supervisor', 'keuangan'), ('Javier Leon', 0, 'stasiun gubeng', 'supervisor', 'administrasi')]\n"
     ]
    }
   ],
   "source": [
    "tct = pegawai_kereta_api()\n",
    "data = [('Shareen Anastasya', 'stasiun jombang', 'supervisor', 'keuangan'), ('Javier Leon', 'stasiun gubeng', 'supervisor', 'administrasi')]\n",
    "\n",
    "tct.insert_pegawai_many(data)\n",
    "print(tct.tampil_pegawai())"
   ]
  },
  {
   "cell_type": "code",
   "execution_count": 46,
   "id": "b974f03e",
   "metadata": {},
   "outputs": [
    {
     "name": "stdout",
     "output_type": "stream",
     "text": [
      "1 record inserted.\n"
     ]
    },
    {
     "data": {
      "text/plain": [
       "0"
      ]
     },
     "execution_count": 46,
     "metadata": {},
     "output_type": "execute_result"
    }
   ],
   "source": [
    "data = ('Moch Ebrar', 'stasiun semarang', 'staff', 'kesehatan keselamatan kerja')\n",
    "tct.insert_pegawai(data)"
   ]
  },
  {
   "cell_type": "code",
   "execution_count": 47,
   "id": "6f33661e",
   "metadata": {},
   "outputs": [
    {
     "data": {
      "text/plain": [
       "[('Shareen Anastasya', 0, '0', 'supervisor', 'keuangan'),\n",
       " ('Javier Leon', 0, '0', 'supervisor', 'administrasi'),\n",
       " ('Shareen Anastasya', 0, 'stasiun jombang', 'supervisor', 'keuangan'),\n",
       " ('Javier Leon', 0, 'stasiun gubeng', 'supervisor', 'administrasi'),\n",
       " ('Moch Ebrar', 0, 'stasiun semarang', 'staff', 'kesehatan keselamatan kerja')]"
      ]
     },
     "execution_count": 47,
     "metadata": {},
     "output_type": "execute_result"
    }
   ],
   "source": [
    "tct.tampil_pegawai()"
   ]
  },
  {
   "cell_type": "code",
   "execution_count": 33,
   "id": "89791cc8",
   "metadata": {},
   "outputs": [],
   "source": [
    "class Database:\n",
    "    my_db = my_cursor = None\n",
    "    \n",
    "    def __init__(self):\n",
    "        global my_db, my_cursor\n",
    "        my_db = mysql.connector.connect(\n",
    "            host=\"localhost\",\n",
    "            user=\"root\",\n",
    "            password=\"\",\n",
    "            database=\"db_stasiun_kereta_api\"\n",
    "        )\n",
    "        my_cursor = my_db.cursor()\n",
    "        \n",
    "    def __del__(self):\n",
    "        my_db.commit()"
   ]
  },
  {
   "cell_type": "code",
   "execution_count": 34,
   "id": "1b6bd2ec",
   "metadata": {},
   "outputs": [],
   "source": [
    "class penumpang_kereta_api(Database):\n",
    "    \n",
    "    def tampil_penumpang(self, mode='DESC'):\n",
    "        sql = \"SELECT * FROM penumpang_kereta_api ORDER BY id_penumpang {}\".format(mode)\n",
    "        \n",
    "        try:\n",
    "            my_cursor.execute(sql)\n",
    "            result = my_cursor.fetchall()\n",
    "        except Exception as e:\n",
    "            return e\n",
    "        \n",
    "        return result\n",
    "    \n",
    "    def insert_penumpang(self, data):\n",
    "        \n",
    "        sql = \"INSERT INTO penumpang_kereta_api (nama_penumpang, bukti_vaksin, jenis_penumpang) VALUES (%s, %s, %s)\"\n",
    "        \n",
    "        try:\n",
    "            my_cursor.execute(sql, data)\n",
    "            my_db.commit()\n",
    "            print(my_cursor.rowcount, \"record inserted.\")\n",
    "        except Exception as e:\n",
    "            return e\n",
    "        \n",
    "        return my_cursor.lastrowid\n",
    "    \n",
    "    def insert_penumpang_many(self, data):\n",
    "        sql = \"INSERT INTO penumpang_kereta_api (nama_penumpang, bukti_vaksin, jenis_penumpang) VALUES (%s, %s, %s)\"\n",
    "        \n",
    "        try:\n",
    "            my_cursor.executemany(sql, [tuple(row) for row in data])\n",
    "            my_db.commit()\n",
    "            print(my_cursor.rowcount, \"record inserted.\")\n",
    "            \n",
    "        except Exception as e:\n",
    "            return e\n",
    "        \n",
    "    def delete_penumpang(self, id):\n",
    "        sql = \"DELETE FROM penumpang_kereta_api WHERE id_penumpang = {}\".format(id)\n",
    "\n",
    "        try:\n",
    "            my_cursor.execute(sql)\n",
    "            my_db.commit()\n",
    "            print(my_cursor.rowcount, \"record deleted.\")\n",
    "        except Exception as e:\n",
    "            return e\n",
    "    \n",
    "    def update_penumpang(self, id, data):\n",
    "        \n",
    "        sql = \"UPDATE penumpang_kereta_api SET nama_penumpang = %s, bukti_vaksin = %s, jenis_penumpang = %s WHERE id_penumpang = {}\".format(id)\n",
    "        val = (data[0], data[1], data[2])\n",
    "        \n",
    "        try:\n",
    "            my_cursor.execute(sql, val)\n",
    "            my_db.commit()\n",
    "            print(my_cursor.rowcount, \"record update.\")\n",
    "            \n",
    "        except Exception as e:\n",
    "            return e\n",
    "        \n",
    "    def truncate(self):\n",
    "        \n",
    "        sql = \"TRUNCATE TABLE penumpang_kereta_api\"\n",
    "        try:\n",
    "            my_cursor.execute(sql)\n",
    "            my_db.commit()\n",
    "        except Exception as e:\n",
    "            return e\n",
    "        \n",
    "        return True"
   ]
  },
  {
   "cell_type": "code",
   "execution_count": 36,
   "id": "a49b87d1",
   "metadata": {},
   "outputs": [
    {
     "name": "stdout",
     "output_type": "stream",
     "text": [
      "[]\n"
     ]
    }
   ],
   "source": [
    "db = Database()\n",
    "pnp = penumpang_kereta_api()\n",
    "\n",
    "data = [('Kejora', 'sudah vaksin', 'reduksi', 61), ('Septihan', 'belum vaksin', 'umum', 59)]\n",
    "\n",
    "pnp.insert_penumpang_many(data)\n",
    "print(pnp.tampil_penumpang())"
   ]
  },
  {
   "cell_type": "code",
   "execution_count": null,
   "id": "88920e47",
   "metadata": {},
   "outputs": [],
   "source": []
  }
 ],
 "metadata": {
  "kernelspec": {
   "display_name": "Python 3 (ipykernel)",
   "language": "python",
   "name": "python3"
  },
  "language_info": {
   "codemirror_mode": {
    "name": "ipython",
    "version": 3
   },
   "file_extension": ".py",
   "mimetype": "text/x-python",
   "name": "python",
   "nbconvert_exporter": "python",
   "pygments_lexer": "ipython3",
   "version": "3.9.12"
  }
 },
 "nbformat": 4,
 "nbformat_minor": 5
}
